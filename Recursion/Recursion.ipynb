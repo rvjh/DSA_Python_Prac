{
  "nbformat": 4,
  "nbformat_minor": 0,
  "metadata": {
    "colab": {
      "provenance": []
    },
    "kernelspec": {
      "name": "python3",
      "display_name": "Python 3"
    },
    "language_info": {
      "name": "python"
    }
  },
  "cells": [
    {
      "cell_type": "markdown",
      "source": [
        "### Callstack"
      ],
      "metadata": {
        "id": "1o46dnrKNJq5"
      }
    },
    {
      "cell_type": "code",
      "execution_count": 2,
      "metadata": {
        "colab": {
          "base_uri": "https://localhost:8080/"
        },
        "id": "vZ0Iy_Q-HdjD",
        "outputId": "87edbd17-126c-412a-cb52-ac9038615b6d"
      },
      "outputs": [
        {
          "output_type": "stream",
          "name": "stdout",
          "text": [
            "c\n",
            "b\n",
            "a\n"
          ]
        }
      ],
      "source": [
        "def c():\n",
        "  print(\"c\")\n",
        "\n",
        "def b():\n",
        "  c()\n",
        "  print(\"b\")\n",
        "\n",
        "def a():\n",
        "  b()\n",
        "  print(\"a\")\n",
        "\n",
        "a()\n",
        ""
      ]
    },
    {
      "cell_type": "markdown",
      "source": [
        "### Factorial"
      ],
      "metadata": {
        "id": "faupgysBNMvx"
      }
    },
    {
      "cell_type": "code",
      "source": [
        "def m(a):\n",
        "  if a == 0 or a==1:\n",
        "    return 1\n",
        "  return a*m(a-1)\n",
        "\n",
        "m(6)"
      ],
      "metadata": {
        "colab": {
          "base_uri": "https://localhost:8080/"
        },
        "id": "uybHrbIaKz2v",
        "outputId": "6678ff00-4d44-4628-c0c5-1c83bae344be"
      },
      "execution_count": 5,
      "outputs": [
        {
          "output_type": "execute_result",
          "data": {
            "text/plain": [
              "720"
            ]
          },
          "metadata": {},
          "execution_count": 5
        }
      ]
    },
    {
      "cell_type": "markdown",
      "source": [
        "### Permutation and Combination"
      ],
      "metadata": {
        "id": "1LNlPWKVNPkb"
      }
    },
    {
      "cell_type": "code",
      "source": [
        "## per and comb\n",
        "\n",
        "def f(x):\n",
        "  if x == 0 or x==1:\n",
        "    return 1\n",
        "  else:\n",
        "    return x*f(x-1)\n",
        "\n",
        "\n",
        "def per(n,r):\n",
        "  if r>n:\n",
        "    return 0\n",
        "  else:\n",
        "    return f(n)/f(n-r)\n",
        "\n",
        "def com(n,r):\n",
        "  if r>n:\n",
        "    return 0\n",
        "  else:\n",
        "    return f(n)/(f(r)*f(n-r))\n",
        "\n",
        "print(per(5,2))\n",
        "print(com(5,2))"
      ],
      "metadata": {
        "colab": {
          "base_uri": "https://localhost:8080/"
        },
        "id": "DPWG8XyYLq10",
        "outputId": "54c95f6c-8d8c-47c0-834a-bf5e15aa8955"
      },
      "execution_count": 7,
      "outputs": [
        {
          "output_type": "stream",
          "name": "stdout",
          "text": [
            "20.0\n",
            "10.0\n"
          ]
        }
      ]
    },
    {
      "cell_type": "code",
      "source": [],
      "metadata": {
        "id": "63hgRbWNMyPv"
      },
      "execution_count": null,
      "outputs": []
    }
  ]
}