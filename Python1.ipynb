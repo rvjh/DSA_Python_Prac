{
  "nbformat": 4,
  "nbformat_minor": 0,
  "metadata": {
    "colab": {
      "provenance": []
    },
    "kernelspec": {
      "name": "python3",
      "display_name": "Python 3"
    },
    "language_info": {
      "name": "python"
    }
  },
  "cells": [
    {
      "cell_type": "code",
      "execution_count": null,
      "metadata": {
        "id": "Y_exLlRHPd9o"
      },
      "outputs": [],
      "source": [
        "my_string = \"In 2010, someone paid 10k Bitcoin for two pizzas.\"\n",
        "\n",
        "print(my_string[7])"
      ]
    },
    {
      "cell_type": "code",
      "source": [
        "my_string = \"In 2010, someone paid 10k Bitcoin for two pizzas.\"\n",
        "\n",
        "print(my_string[-10])"
      ],
      "metadata": {
        "id": "ioD60MUdPnsy"
      },
      "execution_count": null,
      "outputs": []
    },
    {
      "cell_type": "code",
      "source": [
        "my_string = \"In 2010, someone paid 10k Bitcoin for two pizzas.\"\n",
        "\n",
        "print(my_string.index('B'))"
      ],
      "metadata": {
        "id": "hqW3RkZNPnpN"
      },
      "execution_count": null,
      "outputs": []
    },
    {
      "cell_type": "code",
      "source": [
        "my_string = \"In 2010, someone paid 10k Bitcoin for two pizzas.\"\n",
        "\n",
        "print(my_string.count('o'))"
      ],
      "metadata": {
        "id": "IOHdQLDPPnmW"
      },
      "execution_count": null,
      "outputs": []
    },
    {
      "cell_type": "code",
      "source": [
        "my_string = \"In 2010, someone paid 10k Bitcoin for two pizzas.\"\n",
        "\n",
        "print(my_string.upper())"
      ],
      "metadata": {
        "id": "CMiDa8tKPnjs"
      },
      "execution_count": null,
      "outputs": []
    },
    {
      "cell_type": "code",
      "source": [
        "my_string = \"In 2010, someone paid 10k Bitcoin for two pizzas.\"\n",
        "\n",
        "print(my_string.find('Bitcoin'))"
      ],
      "metadata": {
        "id": "q6V6ajzEPng1"
      },
      "execution_count": null,
      "outputs": []
    },
    {
      "cell_type": "code",
      "source": [
        "my_string = \"In 2010, someone paid 10k Bitcoin for two pizzas.\"\n",
        "\n",
        "print(my_string.startswith(\"X\"))"
      ],
      "metadata": {
        "id": "BjWAeBT0PneH"
      },
      "execution_count": null,
      "outputs": []
    },
    {
      "cell_type": "code",
      "source": [
        "my_string = \"In 2010, someone paid 10k Bitcoin for two pizzas.\"\n",
        "\n",
        "print(my_string.swapcase())"
      ],
      "metadata": {
        "id": "CoW4xtauPnbZ"
      },
      "execution_count": null,
      "outputs": []
    },
    {
      "cell_type": "code",
      "source": [
        "my_string = \"In 2010, someone paid 10k Bitcoin for two pizzas.\"\n",
        "\n",
        "print(my_string.replace(\" \",\"\"))"
      ],
      "metadata": {
        "id": "Z-Jcu6oLPnYX"
      },
      "execution_count": null,
      "outputs": []
    },
    {
      "cell_type": "code",
      "source": [
        "my_string = \"In 2010, someone paid 10k Bitcoin for two pizzas.\"\n",
        "\n",
        "print(my_string.replace(\"i\",\"btc\"))"
      ],
      "metadata": {
        "id": "lynmOBNnPnVo"
      },
      "execution_count": null,
      "outputs": []
    },
    {
      "cell_type": "code",
      "source": [
        "my_string = \"In 2010, someone paid 10k Bitcoin for two pizzas.\"\n",
        "\n",
        "print(my_string.split(\",\"))"
      ],
      "metadata": {
        "id": "75UjapUUPnS0"
      },
      "execution_count": null,
      "outputs": []
    },
    {
      "cell_type": "code",
      "source": [
        "my_string = \"In 2010, someone paid 10k Bitcoin for two pizzas.\"\n",
        "my_other_string = \"Poor guy!\"\n",
        "\n",
        "print(my_string+my_other_string)"
      ],
      "metadata": {
        "id": "i83PjMz6PnP_"
      },
      "execution_count": null,
      "outputs": []
    },
    {
      "cell_type": "code",
      "source": [],
      "metadata": {
        "id": "VggHc_ttPnNR"
      },
      "execution_count": null,
      "outputs": []
    },
    {
      "cell_type": "code",
      "source": [],
      "metadata": {
        "id": "qWIqs-DuPnKd"
      },
      "execution_count": null,
      "outputs": []
    }
  ]
}