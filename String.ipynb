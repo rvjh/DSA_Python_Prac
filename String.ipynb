{
  "nbformat": 4,
  "nbformat_minor": 0,
  "metadata": {
    "colab": {
      "provenance": []
    },
    "kernelspec": {
      "name": "python3",
      "display_name": "Python 3"
    },
    "language_info": {
      "name": "python"
    }
  },
  "cells": [
    {
      "cell_type": "code",
      "execution_count": null,
      "metadata": {
        "id": "Y_exLlRHPd9o"
      },
      "outputs": [],
      "source": [
        "my_string = \"In 2010, someone paid 10k Bitcoin for two pizzas.\"\n",
        "\n",
        "print(my_string[7])"
      ]
    },
    {
      "cell_type": "code",
      "source": [
        "my_string = \"In 2010, someone paid 10k Bitcoin for two pizzas.\"\n",
        "\n",
        "print(my_string[-10])"
      ],
      "metadata": {
        "id": "ioD60MUdPnsy"
      },
      "execution_count": null,
      "outputs": []
    },
    {
      "cell_type": "code",
      "source": [
        "my_string = \"In 2010, someone paid 10k Bitcoin for two pizzas.\"\n",
        "\n",
        "print(my_string.index('B'))"
      ],
      "metadata": {
        "id": "hqW3RkZNPnpN"
      },
      "execution_count": null,
      "outputs": []
    },
    {
      "cell_type": "code",
      "source": [
        "my_string = \"In 2010, someone paid 10k Bitcoin for two pizzas.\"\n",
        "\n",
        "print(my_string.count('o'))"
      ],
      "metadata": {
        "id": "IOHdQLDPPnmW"
      },
      "execution_count": null,
      "outputs": []
    },
    {
      "cell_type": "code",
      "source": [
        "my_string = \"In 2010, someone paid 10k Bitcoin for two pizzas.\"\n",
        "\n",
        "print(my_string.upper())"
      ],
      "metadata": {
        "id": "CMiDa8tKPnjs"
      },
      "execution_count": null,
      "outputs": []
    },
    {
      "cell_type": "code",
      "source": [
        "my_string = \"In 2010, someone paid 10k Bitcoin for two pizzas.\"\n",
        "\n",
        "print(my_string.find('Bitcoin'))"
      ],
      "metadata": {
        "id": "q6V6ajzEPng1"
      },
      "execution_count": null,
      "outputs": []
    },
    {
      "cell_type": "code",
      "source": [
        "my_string = \"In 2010, someone paid 10k Bitcoin for two pizzas.\"\n",
        "\n",
        "print(my_string.startswith(\"X\"))"
      ],
      "metadata": {
        "id": "BjWAeBT0PneH"
      },
      "execution_count": null,
      "outputs": []
    },
    {
      "cell_type": "code",
      "source": [
        "my_string = \"In 2010, someone paid 10k Bitcoin for two pizzas.\"\n",
        "\n",
        "print(my_string.swapcase())"
      ],
      "metadata": {
        "id": "CoW4xtauPnbZ"
      },
      "execution_count": null,
      "outputs": []
    },
    {
      "cell_type": "code",
      "source": [
        "my_string = \"In 2010, someone paid 10k Bitcoin for two pizzas.\"\n",
        "\n",
        "print(my_string.replace(\" \",\"\"))"
      ],
      "metadata": {
        "id": "Z-Jcu6oLPnYX"
      },
      "execution_count": null,
      "outputs": []
    },
    {
      "cell_type": "code",
      "source": [
        "my_string = \"In 2010, someone paid 10k Bitcoin for two pizzas.\"\n",
        "\n",
        "print(my_string.replace(\"i\",\"btc\"))"
      ],
      "metadata": {
        "id": "lynmOBNnPnVo"
      },
      "execution_count": null,
      "outputs": []
    },
    {
      "cell_type": "code",
      "source": [
        "my_string = \"In 2010, someone paid 10k Bitcoin for two pizzas.\"\n",
        "\n",
        "print(my_string.split(\",\"))"
      ],
      "metadata": {
        "id": "75UjapUUPnS0"
      },
      "execution_count": null,
      "outputs": []
    },
    {
      "cell_type": "code",
      "source": [
        "my_string = \"In 2010, someone paid 10k Bitcoin for two pizzas.\"\n",
        "my_other_string = \"Poor guy!\"\n",
        "\n",
        "print(my_string+my_other_string)"
      ],
      "metadata": {
        "id": "i83PjMz6PnP_"
      },
      "execution_count": null,
      "outputs": []
    },
    {
      "cell_type": "code",
      "source": [
        "my_string = \"In 2010, someone paid 10k Bitcoin for two pizzas.\"\n",
        "\n",
        "print(my_string.title())"
      ],
      "metadata": {
        "id": "VggHc_ttPnNR"
      },
      "execution_count": null,
      "outputs": []
    },
    {
      "cell_type": "code",
      "source": [
        "my_string = \"In %s, someone paid %s %s for two pizzas.\"\n",
        "\n",
        "print(my_string % (\"2010\", \"10k\",\"Bitcoin\"))"
      ],
      "metadata": {
        "id": "qWIqs-DuPnKd"
      },
      "execution_count": null,
      "outputs": []
    },
    {
      "cell_type": "code",
      "source": [
        "my_string = \"In {}, someone paid {} {} for two pizzas.\"\n",
        "\n",
        "print(my_string.format(\"2010\",\"10k\",\"Bitcoin\"))"
      ],
      "metadata": {
        "id": "g6U_pZ7wtPU6"
      },
      "execution_count": null,
      "outputs": []
    },
    {
      "cell_type": "code",
      "source": [
        "my_string = \"In 2010, someone paid 10k Bitcoin for two pizzas.\"\n",
        "\n",
        "print(my_string[3:7])"
      ],
      "metadata": {
        "id": "720Sfpe0tPRf"
      },
      "execution_count": null,
      "outputs": []
    },
    {
      "cell_type": "code",
      "source": [
        "my_string = \"In 2010, someone paid 10k Bitcoin for two pizzas.\"\n",
        "\n",
        "print(my_string[-23:-16])"
      ],
      "metadata": {
        "id": "dem7pIfWtPOp"
      },
      "execution_count": null,
      "outputs": []
    },
    {
      "cell_type": "code",
      "source": [
        "my_string = \"In 2010, someone paid 10k Bitcoin for two pizzas.\"\n",
        "\n",
        "print(my_string[:12])"
      ],
      "metadata": {
        "id": "RciKKFOCtPL2"
      },
      "execution_count": null,
      "outputs": []
    },
    {
      "cell_type": "code",
      "source": [
        "my_string = \"In 2010, someone paid 10k Bitcoin for two pizzas.\"\n",
        "\n",
        "print(my_string[-9:])"
      ],
      "metadata": {
        "id": "VaTY9LXXtPJK"
      },
      "execution_count": null,
      "outputs": []
    },
    {
      "cell_type": "code",
      "source": [
        "my_string = \"In 2010, someone paid 10k Bitcoin for two pizzas.\"\n",
        "\n",
        "print(my_string[::-1])"
      ],
      "metadata": {
        "id": "bLZacW9stPAw"
      },
      "execution_count": null,
      "outputs": []
    },
    {
      "cell_type": "code",
      "source": [
        "my_string = \"In 2010, someone paid 10k Bitcoin for two pizzas.\"\n",
        "\n",
        "print(my_string[::7])"
      ],
      "metadata": {
        "id": "ryAkCIBHtO9S"
      },
      "execution_count": null,
      "outputs": []
    },
    {
      "cell_type": "code",
      "source": [
        "my_string = \"In 2010, someone paid 10k Bitcoin for two pizzas.\"\n",
        "\n",
        "print(my_string[10:])"
      ],
      "metadata": {
        "id": "ljyZa-99vDlI"
      },
      "execution_count": null,
      "outputs": []
    },
    {
      "cell_type": "code",
      "source": [
        "my_string = \"In 2010, someone paid 10k Bitcoin for two pizzas.\"\n",
        "\n",
        "print(my_string[:-4])"
      ],
      "metadata": {
        "id": "BqIJ3K19vDhr"
      },
      "execution_count": null,
      "outputs": []
    },
    {
      "cell_type": "code",
      "source": [],
      "metadata": {
        "id": "3cek_n0NvDe-"
      },
      "execution_count": null,
      "outputs": []
    },
    {
      "cell_type": "code",
      "source": [],
      "metadata": {
        "id": "c0nUxwnivDcR"
      },
      "execution_count": null,
      "outputs": []
    }
  ]
}