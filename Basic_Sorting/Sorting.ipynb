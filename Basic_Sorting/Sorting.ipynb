{
  "nbformat": 4,
  "nbformat_minor": 0,
  "metadata": {
    "colab": {
      "provenance": []
    },
    "kernelspec": {
      "name": "python3",
      "display_name": "Python 3"
    },
    "language_info": {
      "name": "python"
    }
  },
  "cells": [
    {
      "cell_type": "markdown",
      "source": [
        "### Bubble sort\n",
        "\n",
        "- Iterate through whole list and decreament the list\n",
        "- if len(i) > len(i+1) - swap them else continue\n"
      ],
      "metadata": {
        "id": "_fpcMCXxZB5_"
      }
    },
    {
      "cell_type": "code",
      "execution_count": 2,
      "metadata": {
        "colab": {
          "base_uri": "https://localhost:8080/"
        },
        "id": "8WrK06gU6ms7",
        "outputId": "167d25e8-171f-4c64-951d-ba38979512ad"
      },
      "outputs": [
        {
          "output_type": "execute_result",
          "data": {
            "text/plain": [
              "[1, 2, 4, 5, 7, 8, 14]"
            ]
          },
          "metadata": {},
          "execution_count": 2
        }
      ],
      "source": [
        "def bub(l):\n",
        "  for i in range(len(l)-1,0,-1):\n",
        "    for j in range(i):\n",
        "      if l[j]>l[j+1]:\n",
        "        t = l[j]\n",
        "        l[j] = l[j+1]\n",
        "        l[j+1] = t\n",
        "  return l\n",
        "\n",
        "bub([14,5,1,8,2,7,4])"
      ]
    },
    {
      "cell_type": "markdown",
      "source": [
        "### Selection Sort\n",
        "\n",
        "- here we need indexes for the values\n",
        "- we keep looking at the indexex with min value\n",
        "-"
      ],
      "metadata": {
        "id": "nC-dY4wgaEBO"
      }
    },
    {
      "cell_type": "code",
      "source": [
        "def sel(l):\n",
        "  for i in range(len(l)-1):\n",
        "    min_index = i\n",
        "    for j in range(i+1, len(l)):\n",
        "      if l[j] < l[min_index]:\n",
        "        min_index = j\n",
        "    if i != min_index:\n",
        "      l[i], l[min_index] = l[min_index], l[i]\n",
        "  return l\n",
        "\n",
        "sel([14,5,1,8,2,7,4])"
      ],
      "metadata": {
        "colab": {
          "base_uri": "https://localhost:8080/"
        },
        "id": "utAerUgzY32N",
        "outputId": "4a1690be-c12a-4b3d-bc5f-df4e732d58ea"
      },
      "execution_count": 5,
      "outputs": [
        {
          "output_type": "execute_result",
          "data": {
            "text/plain": [
              "[1, 2, 4, 5, 7, 8, 14]"
            ]
          },
          "metadata": {},
          "execution_count": 5
        }
      ]
    },
    {
      "cell_type": "markdown",
      "source": [
        "### Insertion Sort\n",
        "\n",
        "- compare with the next item if less then swap\n"
      ],
      "metadata": {
        "id": "SaO-4vJe_eIG"
      }
    },
    {
      "cell_type": "code",
      "source": [
        "def insertion(l):\n",
        "  for i in range(1,len(l)):\n",
        "    t = l[i]\n",
        "    j = i-1\n",
        "    while t<l[j] and j>-1:\n",
        "      l[j+1] = l[j]\n",
        "      l[j] = t\n",
        "      j-=1\n",
        "  return l\n",
        "\n",
        "\n",
        "insertion([14,5,1,8,2,7,4])"
      ],
      "metadata": {
        "colab": {
          "base_uri": "https://localhost:8080/"
        },
        "id": "Moae2r4N93Ta",
        "outputId": "2d9f9b38-f7ae-450d-e090-dde7bdf541ea"
      },
      "execution_count": 8,
      "outputs": [
        {
          "output_type": "execute_result",
          "data": {
            "text/plain": [
              "[1, 2, 4, 5, 7, 8, 14]"
            ]
          },
          "metadata": {},
          "execution_count": 8
        }
      ]
    },
    {
      "cell_type": "code",
      "source": [],
      "metadata": {
        "id": "WTUBloXbAD3e"
      },
      "execution_count": null,
      "outputs": []
    }
  ]
}